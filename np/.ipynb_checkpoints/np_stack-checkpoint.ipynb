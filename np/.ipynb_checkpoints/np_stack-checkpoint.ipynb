{
 "nbformat": 4,
 "nbformat_minor": 2,
 "metadata": {
  "language_info": {
   "name": "python",
   "codemirror_mode": {
    "name": "ipython",
    "version": 3
   },
   "version": "3.7.4-final"
  },
  "orig_nbformat": 2,
  "file_extension": ".py",
  "mimetype": "text/x-python",
  "name": "python",
  "npconvert_exporter": "python",
  "pygments_lexer": "ipython3",
  "version": 3,
  "kernelspec": {
   "name": "python37464bit7740f592426643beb1d1613d4454093d",
   "display_name": "Python 3.7.4 64-bit"
  }
 },
 "cells": [
  {
   "cell_type": "code",
   "execution_count": 1,
   "metadata": {},
   "outputs": [],
   "source": [
    "import numpy as np"
   ]
  },
  {
   "cell_type": "code",
   "execution_count": 2,
   "metadata": {},
   "outputs": [],
   "source": [
    "x1 = np.array([[[9, 3, 7, 3],\n",
    "        [2, 1, 1, 2],\n",
    "        [1, 4, 2, 5]],\n",
    "\n",
    "       [[5, 5, 2, 5],\n",
    "        [7, 7, 6, 1],\n",
    "        [6, 7, 2, 3]]])"
   ]
  },
  {
   "cell_type": "code",
   "execution_count": 3,
   "metadata": {},
   "outputs": [
    {
     "output_type": "execute_result",
     "data": {
      "text/plain": "array([[[9, 3, 7, 3],\n        [2, 1, 1, 2],\n        [1, 4, 2, 5]],\n\n       [[5, 5, 2, 5],\n        [7, 7, 6, 1],\n        [6, 7, 2, 3]]])"
     },
     "metadata": {},
     "execution_count": 3
    }
   ],
   "source": [
    "x1"
   ]
  },
  {
   "cell_type": "code",
   "execution_count": 11,
   "metadata": {},
   "outputs": [
    {
     "output_type": "execute_result",
     "data": {
      "text/plain": "array([[[16, 13, 19, 16],\n        [15, 19,  1,  2],\n        [ 4, 15,  5,  7]],\n\n       [[18, 18,  1,  9],\n        [ 5, 19,  7, 11],\n        [ 8, 10,  2, 18]]])"
     },
     "metadata": {},
     "execution_count": 11
    }
   ],
   "source": [
    "x2 = np.random.randint(20, size=(2, 3, 4))\n",
    "x2"
   ]
  },
  {
   "cell_type": "code",
   "execution_count": 20,
   "metadata": {},
   "outputs": [
    {
     "output_type": "execute_result",
     "data": {
      "text/plain": "array([[[ 9,  3,  7,  3],\n        [ 2,  1,  1,  2],\n        [ 1,  4,  2,  5],\n        [16, 13, 19, 16],\n        [15, 19,  1,  2],\n        [ 4, 15,  5,  7]],\n\n       [[ 5,  5,  2,  5],\n        [ 7,  7,  6,  1],\n        [ 6,  7,  2,  3],\n        [18, 18,  1,  9],\n        [ 5, 19,  7, 11],\n        [ 8, 10,  2, 18]]])"
     },
     "metadata": {},
     "execution_count": 20
    }
   ],
   "source": [
    "np.hstack((x1, x2)) # horizontally stack, equivalent to concatenate along column"
   ]
  },
  {
   "cell_type": "code",
   "execution_count": 21,
   "metadata": {},
   "outputs": [
    {
     "output_type": "execute_result",
     "data": {
      "text/plain": "array([[[ 9,  3,  7,  3],\n        [ 2,  1,  1,  2],\n        [ 1,  4,  2,  5],\n        [16, 13, 19, 16],\n        [15, 19,  1,  2],\n        [ 4, 15,  5,  7]],\n\n       [[ 5,  5,  2,  5],\n        [ 7,  7,  6,  1],\n        [ 6,  7,  2,  3],\n        [18, 18,  1,  9],\n        [ 5, 19,  7, 11],\n        [ 8, 10,  2, 18]]])"
     },
     "metadata": {},
     "execution_count": 21
    }
   ],
   "source": [
    "np.concatenate([x1, x2], axis=1) # concatenate along column"
   ]
  },
  {
   "cell_type": "code",
   "execution_count": 22,
   "metadata": {},
   "outputs": [
    {
     "output_type": "execute_result",
     "data": {
      "text/plain": "array([[[ 9,  3,  7,  3],\n        [ 2,  1,  1,  2],\n        [ 1,  4,  2,  5]],\n\n       [[ 5,  5,  2,  5],\n        [ 7,  7,  6,  1],\n        [ 6,  7,  2,  3]],\n\n       [[16, 13, 19, 16],\n        [15, 19,  1,  2],\n        [ 4, 15,  5,  7]],\n\n       [[18, 18,  1,  9],\n        [ 5, 19,  7, 11],\n        [ 8, 10,  2, 18]]])"
     },
     "metadata": {},
     "execution_count": 22
    }
   ],
   "source": [
    "np.vstack([x1, x2]) # vertically stack, equivalent to concatenate along row"
   ]
  },
  {
   "cell_type": "code",
   "execution_count": 23,
   "metadata": {},
   "outputs": [
    {
     "output_type": "execute_result",
     "data": {
      "text/plain": "array([[[ 9,  3,  7,  3],\n        [ 2,  1,  1,  2],\n        [ 1,  4,  2,  5]],\n\n       [[ 5,  5,  2,  5],\n        [ 7,  7,  6,  1],\n        [ 6,  7,  2,  3]],\n\n       [[16, 13, 19, 16],\n        [15, 19,  1,  2],\n        [ 4, 15,  5,  7]],\n\n       [[18, 18,  1,  9],\n        [ 5, 19,  7, 11],\n        [ 8, 10,  2, 18]]])"
     },
     "metadata": {},
     "execution_count": 23
    }
   ],
   "source": [
    "np.concatenate([x1, x2], axis=0) # concatenate along row"
   ]
  },
  {
   "cell_type": "code",
   "execution_count": 17,
   "metadata": {},
   "outputs": [
    {
     "output_type": "execute_result",
     "data": {
      "text/plain": "(4, 3, 4)"
     },
     "metadata": {},
     "execution_count": 17
    }
   ],
   "source": [
    "np.vstack([x1, x2]).shape "
   ]
  },
  {
   "cell_type": "code",
   "execution_count": 18,
   "metadata": {},
   "outputs": [
    {
     "output_type": "execute_result",
     "data": {
      "text/plain": "array([[[ 9,  3,  7,  3, 16, 13, 19, 16],\n        [ 2,  1,  1,  2, 15, 19,  1,  2],\n        [ 1,  4,  2,  5,  4, 15,  5,  7]],\n\n       [[ 5,  5,  2,  5, 18, 18,  1,  9],\n        [ 7,  7,  6,  1,  5, 19,  7, 11],\n        [ 6,  7,  2,  3,  8, 10,  2, 18]]])"
     },
     "metadata": {},
     "execution_count": 18
    }
   ],
   "source": [
    "np.dstack([x1, x2]) # depth-wise stack, equivalent to concatenate along the third axis (depth)"
   ]
  },
  {
   "cell_type": "code",
   "execution_count": 24,
   "metadata": {},
   "outputs": [
    {
     "output_type": "execute_result",
     "data": {
      "text/plain": "array([[[ 9,  3,  7,  3, 16, 13, 19, 16],\n        [ 2,  1,  1,  2, 15, 19,  1,  2],\n        [ 1,  4,  2,  5,  4, 15,  5,  7]],\n\n       [[ 5,  5,  2,  5, 18, 18,  1,  9],\n        [ 7,  7,  6,  1,  5, 19,  7, 11],\n        [ 6,  7,  2,  3,  8, 10,  2, 18]]])"
     },
     "metadata": {},
     "execution_count": 24
    }
   ],
   "source": [
    "np.concatenate([x1, x2], axis=2) # concatenate along the third axis"
   ]
  },
  {
   "cell_type": "code",
   "execution_count": null,
   "metadata": {},
   "outputs": [],
   "source": []
  }
 ]
}