{
 "cells": [
  {
   "cell_type": "markdown",
   "metadata": {},
   "source": [
    "Pandas contains a fairly extensive set of tools for working with dates, times, and time-indexed data:\n",
    "\n",
    "- ***Time stamps***: particular moments in time (e.g., July 4th, 2015 at 7:00am)\n",
    "- ***Time intervals* and *periods***: a length of time between a particular beginning and end point; for example, the year 2015. \n",
    "  - Periods usually reference a special case of time intervals in which each interval is of **uniform** length and **does not overlap** (e.g., 24 hour-long periods comprising days).\n",
    "-  ***Time deltas* or *durations***: an exact length of time (e.g., a duration of 22.56 seconds).\n"
   ]
  },
  {
   "cell_type": "code",
   "execution_count": 1,
   "metadata": {},
   "outputs": [],
   "source": [
    "import pandas as pd\n",
    "import numpy as np"
   ]
  },
  {
   "cell_type": "markdown",
   "metadata": {},
   "source": [
    "## "
   ]
  }
 ],
 "metadata": {
  "kernelspec": {
   "display_name": "Python 3",
   "language": "python",
   "name": "python3"
  },
  "language_info": {
   "codemirror_mode": {
    "name": "ipython",
    "version": 3
   },
   "file_extension": ".py",
   "mimetype": "text/x-python",
   "name": "python",
   "nbconvert_exporter": "python",
   "pygments_lexer": "ipython3",
   "version": "3.6.10"
  }
 },
 "nbformat": 4,
 "nbformat_minor": 4
}
