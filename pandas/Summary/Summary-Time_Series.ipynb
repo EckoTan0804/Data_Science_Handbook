{
 "cells": [
  {
   "cell_type": "markdown",
   "metadata": {},
   "source": [
    "| Concept      | Refers to                                                    | Scalar Class | Array Class      | pandas Data Type                         | Primary Creation Method             |\n",
    "| :----------- | ------------------------------------------------------------ | :----------- | :--------------- | :--------------------------------------- | :---------------------------------- |\n",
    "| Date times   | A specific date and time with timezone support               | `Timestamp`  | `DatetimeIndex`  | `datetime64[ns]` or `datetime64[ns, tz]` | `to_datetime` or `date_range`       |\n",
    "| Time deltas  | An absolute time duration                                    | `Timedelta`  | `TimedeltaIndex` | `timedelta64[ns]`                        | `to_timedelta` or `timedelta_range` |\n",
    "| Time spans   | A span of time defined by a point in time and its associated frequency | `Period`     | `PeriodIndex`    | `period[freq]`                           | `Period` or `period_range`          |\n",
    "| Date offsets | A relative time duration that respects calendar arithmetic   | `DateOffset` | `None`           | `None`                                   | `DateOffset`                        |\n",
    "\n"
   ]
  },
  {
   "cell_type": "code",
   "execution_count": 1,
   "metadata": {},
   "outputs": [],
   "source": [
    "import pandas as pd"
   ]
  },
  {
   "cell_type": "markdown",
   "metadata": {
    "toc-hr-collapsed": true
   },
   "source": [
    "## Timestamps"
   ]
  },
  {
   "cell_type": "markdown",
   "metadata": {},
   "source": [
    "### Creating Timestamps"
   ]
  },
  {
   "cell_type": "code",
   "execution_count": 4,
   "metadata": {},
   "outputs": [
    {
     "data": {
      "text/plain": [
       "Timestamp('2012-05-01 00:00:00')"
      ]
     },
     "execution_count": 4,
     "metadata": {},
     "output_type": "execute_result"
    }
   ],
   "source": [
    "import datetime\n",
    "\n",
    "pd.Timestamp(datetime.datetime(2012, 5, 1))"
   ]
  },
  {
   "cell_type": "code",
   "execution_count": 5,
   "metadata": {},
   "outputs": [
    {
     "data": {
      "text/plain": [
       "Timestamp('2012-05-01 00:00:00')"
      ]
     },
     "execution_count": 5,
     "metadata": {},
     "output_type": "execute_result"
    }
   ],
   "source": [
    "pd.Timestamp('2012-05-01')"
   ]
  },
  {
   "cell_type": "code",
   "execution_count": 6,
   "metadata": {},
   "outputs": [
    {
     "data": {
      "text/plain": [
       "Timestamp('2012-05-01 00:00:00')"
      ]
     },
     "execution_count": 6,
     "metadata": {},
     "output_type": "execute_result"
    }
   ],
   "source": [
    "pd.Timestamp(2012, 5, 1)"
   ]
  },
  {
   "cell_type": "markdown",
   "metadata": {
    "toc-hr-collapsed": true
   },
   "source": [
    "### Converting to timestamps"
   ]
  },
  {
   "cell_type": "markdown",
   "metadata": {},
   "source": [
    "#### `pd.to_datetime()`"
   ]
  },
  {
   "cell_type": "markdown",
   "metadata": {},
   "source": [
    "- Pass a single string to `to_datetime`, it returns a single `Timestamp`."
   ]
  },
  {
   "cell_type": "code",
   "execution_count": 10,
   "metadata": {},
   "outputs": [
    {
     "data": {
      "text/plain": [
       "Timestamp('2010-10-12 00:00:00')"
      ]
     },
     "execution_count": 10,
     "metadata": {},
     "output_type": "execute_result"
    }
   ],
   "source": [
    "pd.to_datetime('2010/10/12')"
   ]
  },
  {
   "cell_type": "markdown",
   "metadata": {},
   "source": [
    "- Passing a series of dates by default yields a `DatetimeIndex`"
   ]
  },
  {
   "cell_type": "code",
   "execution_count": 8,
   "metadata": {},
   "outputs": [
    {
     "data": {
      "text/plain": [
       "DatetimeIndex(['2005-11-23', '2010-12-31'], dtype='datetime64[ns]', freq=None)"
      ]
     },
     "execution_count": 8,
     "metadata": {},
     "output_type": "execute_result"
    }
   ],
   "source": [
    "pd.to_datetime(['2005/11/23', '2010.12.31'])"
   ]
  },
  {
   "cell_type": "markdown",
   "metadata": {},
   "source": [
    "- `dayfirst` flag for dates which start with the day first"
   ]
  },
  {
   "cell_type": "code",
   "execution_count": 9,
   "metadata": {},
   "outputs": [
    {
     "data": {
      "text/plain": [
       "DatetimeIndex(['2012-01-14', '2012-01-14'], dtype='datetime64[ns]', freq=None)"
      ]
     },
     "execution_count": 9,
     "metadata": {},
     "output_type": "execute_result"
    }
   ],
   "source": [
    "pd.to_datetime(['14-01-2012', '01-14-2012'], dayfirst=True)"
   ]
  },
  {
   "cell_type": "code",
   "execution_count": 14,
   "metadata": {},
   "outputs": [
    {
     "data": {
      "text/plain": [
       "Timestamp('2020-12-20 00:00:00')"
      ]
     },
     "execution_count": 14,
     "metadata": {},
     "output_type": "execute_result"
    }
   ],
   "source": [
    "pd.to_datetime('20/12/2020', dayfirst=True)"
   ]
  },
  {
   "cell_type": "markdown",
   "metadata": {},
   "source": [
    "- Pass a `format` argument to ensure specific parsing"
   ]
  },
  {
   "cell_type": "code",
   "execution_count": 16,
   "metadata": {},
   "outputs": [
    {
     "data": {
      "text/plain": [
       "Timestamp('2010-11-12 00:00:00')"
      ]
     },
     "execution_count": 16,
     "metadata": {},
     "output_type": "execute_result"
    }
   ],
   "source": [
    "pd.to_datetime('2010/11/12', format='%Y/%m/%d')"
   ]
  },
  {
   "cell_type": "markdown",
   "metadata": {},
   "source": [
    "#### Use the `DatetimeIndex` constructor directly"
   ]
  },
  {
   "cell_type": "code",
   "execution_count": 13,
   "metadata": {},
   "outputs": [
    {
     "data": {
      "text/plain": [
       "DatetimeIndex(['2018-01-01', '2018-01-03', '2018-01-05'], dtype='datetime64[ns]', freq=None)"
      ]
     },
     "execution_count": 13,
     "metadata": {},
     "output_type": "execute_result"
    }
   ],
   "source": [
    "pd.DatetimeIndex(['2018-01-01', '2018-01-03', '2018-01-05'])"
   ]
  },
  {
   "cell_type": "markdown",
   "metadata": {},
   "source": [
    "## Time spans\n",
    "\n",
    "The span represented by `Period` can be specified explicitly, or inferred from datetime string format."
   ]
  },
  {
   "cell_type": "code",
   "execution_count": 17,
   "metadata": {},
   "outputs": [
    {
     "data": {
      "text/plain": [
       "Period('2011-01', 'M')"
      ]
     },
     "execution_count": 17,
     "metadata": {},
     "output_type": "execute_result"
    }
   ],
   "source": [
    "# Specify explicityly\n",
    "pd.Period('2011-01')"
   ]
  },
  {
   "cell_type": "code",
   "execution_count": 18,
   "metadata": {},
   "outputs": [
    {
     "data": {
      "text/plain": [
       "Period('2012-05-01', 'D')"
      ]
     },
     "execution_count": 18,
     "metadata": {},
     "output_type": "execute_result"
    }
   ],
   "source": [
    "# Infer from datetime string format\n",
    "pd.Period('2012-05', freq='D')"
   ]
  },
  {
   "cell_type": "markdown",
   "metadata": {},
   "source": [
    "`DatetimeIndex` -> `PeriodIndex`: `to_period()`"
   ]
  },
  {
   "cell_type": "code",
   "execution_count": 28,
   "metadata": {},
   "outputs": [
    {
     "data": {
      "text/plain": [
       "DatetimeIndex(['2015-07-03', '2015-08-04', '2015-09-06', '2015-10-07',\n",
       "               '2015-11-08'],\n",
       "              dtype='datetime64[ns]', freq=None)"
      ]
     },
     "execution_count": 28,
     "metadata": {},
     "output_type": "execute_result"
    }
   ],
   "source": [
    "dates = pd.to_datetime([datetime.datetime(2015, 7, 3),\n",
    "                        '4th of August, 2015',\n",
    "                        '2015-Sep-6',\n",
    "                        '10-07-2015',\n",
    "                        '20151108'])\n",
    "dates"
   ]
  },
  {
   "cell_type": "code",
   "execution_count": 29,
   "metadata": {},
   "outputs": [
    {
     "data": {
      "text/plain": [
       "PeriodIndex(['2015-07-03', '2015-08-04', '2015-09-06', '2015-10-07',\n",
       "             '2015-11-08'],\n",
       "            dtype='period[D]', freq='D')"
      ]
     },
     "execution_count": 29,
     "metadata": {},
     "output_type": "execute_result"
    }
   ],
   "source": [
    "dates.to_period('D')"
   ]
  },
  {
   "cell_type": "code",
   "execution_count": 30,
   "metadata": {},
   "outputs": [
    {
     "data": {
      "text/plain": [
       "PeriodIndex(['2015-07-03 00:00', '2015-08-04 00:00', '2015-09-06 00:00',\n",
       "             '2015-10-07 00:00', '2015-11-08 00:00'],\n",
       "            dtype='period[T]', freq='T')"
      ]
     },
     "execution_count": 30,
     "metadata": {},
     "output_type": "execute_result"
    }
   ],
   "source": [
    "dates.to_period('T')"
   ]
  },
  {
   "cell_type": "code",
   "execution_count": 31,
   "metadata": {},
   "outputs": [
    {
     "data": {
      "text/plain": [
       "PeriodIndex(['2015-07', '2015-08', '2015-09', '2015-10', '2015-11'], dtype='period[M]', freq='M')"
      ]
     },
     "execution_count": 31,
     "metadata": {},
     "output_type": "execute_result"
    }
   ],
   "source": [
    "dates.to_period('M')"
   ]
  },
  {
   "cell_type": "markdown",
   "metadata": {},
   "source": [
    "## Time deltas\n",
    "\n",
    "A `TimedeltaIndex` is created, for example, when a date is subtracted from another:"
   ]
  },
  {
   "cell_type": "code",
   "execution_count": 101,
   "metadata": {},
   "outputs": [
    {
     "data": {
      "text/plain": [
       "TimedeltaIndex(['0 days', '32 days', '65 days', '96 days', '128 days'], dtype='timedelta64[ns]', freq=None)"
      ]
     },
     "execution_count": 101,
     "metadata": {},
     "output_type": "execute_result"
    }
   ],
   "source": [
    "dates - dates[0]"
   ]
  },
  {
   "cell_type": "markdown",
   "metadata": {},
   "source": [
    "## Date offsets\n",
    "\n",
    "A `DateOffset` is similar to a [`Timedelta`](https://pandas.pydata.org/pandas-docs/stable/reference/api/pandas.Timedelta.html#pandas.Timedelta) that represents a duration of time but follows specific calendar duration rules. For example, a [`Timedelta`](https://pandas.pydata.org/pandas-docs/stable/reference/api/pandas.Timedelta.html#pandas.Timedelta) day will always increment `datetimes` by 24 hours, while a `DateOffset` day will increment `datetimes` to the same time the next day whether a day represents 23, 24 or 25 hours due to daylight savings time."
   ]
  },
  {
   "cell_type": "code",
   "execution_count": 103,
   "metadata": {},
   "outputs": [
    {
     "data": {
      "text/plain": [
       "Timestamp('2018-01-05 00:00:00')"
      ]
     },
     "execution_count": 103,
     "metadata": {},
     "output_type": "execute_result"
    }
   ],
   "source": [
    "date = pd.to_datetime('2018-01-05')\n",
    "date"
   ]
  },
  {
   "cell_type": "code",
   "execution_count": 105,
   "metadata": {},
   "outputs": [
    {
     "data": {
      "text/plain": [
       "'Friday'"
      ]
     },
     "execution_count": 105,
     "metadata": {},
     "output_type": "execute_result"
    }
   ],
   "source": [
    "date.day_name()"
   ]
  },
  {
   "cell_type": "code",
   "execution_count": 107,
   "metadata": {},
   "outputs": [
    {
     "data": {
      "text/plain": [
       "Timestamp('2018-01-09 00:00:00')"
      ]
     },
     "execution_count": 107,
     "metadata": {},
     "output_type": "execute_result"
    }
   ],
   "source": [
    "# Add two business days (Friday --> next Tuesday)\n",
    "two_business_days = 2 * pd.offsets.BDay()\n",
    "new_date = date + two_business_days\n",
    "new_date"
   ]
  },
  {
   "cell_type": "code",
   "execution_count": 109,
   "metadata": {},
   "outputs": [
    {
     "data": {
      "text/plain": [
       "'Tuesday'"
      ]
     },
     "execution_count": 109,
     "metadata": {},
     "output_type": "execute_result"
    }
   ],
   "source": [
    "new_date.day_name()"
   ]
  },
  {
   "cell_type": "markdown",
   "metadata": {},
   "source": [
    "`DateOffsets` additionally have `rollforward()` and `rollback()` methods for moving a date forward or backward respectively to a valid offset date relative to the offset."
   ]
  },
  {
   "cell_type": "code",
   "execution_count": 110,
   "metadata": {},
   "outputs": [
    {
     "data": {
      "text/plain": [
       "'Saturday'"
      ]
     },
     "execution_count": 110,
     "metadata": {},
     "output_type": "execute_result"
    }
   ],
   "source": [
    "date = pd.to_datetime('2018-01-06 00:00:00')\n",
    "date.day_name()"
   ]
  },
  {
   "cell_type": "code",
   "execution_count": 113,
   "metadata": {},
   "outputs": [],
   "source": [
    "# BusinessHour's valid offset dates are Monday through Friday\n",
    "offset = pd.offsets.BusinessHour(start='09:00')\n",
    "\n",
    "# Bring the date to the closest forward offset date\n",
    "next_date = offset.rollforward(date)"
   ]
  },
  {
   "cell_type": "code",
   "execution_count": 114,
   "metadata": {},
   "outputs": [
    {
     "data": {
      "text/plain": [
       "Timestamp('2018-01-08 09:00:00')"
      ]
     },
     "execution_count": 114,
     "metadata": {},
     "output_type": "execute_result"
    }
   ],
   "source": [
    "next_date"
   ]
  },
  {
   "cell_type": "code",
   "execution_count": 116,
   "metadata": {},
   "outputs": [
    {
     "data": {
      "text/plain": [
       "'Monday'"
      ]
     },
     "execution_count": 116,
     "metadata": {},
     "output_type": "execute_result"
    }
   ],
   "source": [
    "next_date.day_name()"
   ]
  },
  {
   "cell_type": "markdown",
   "metadata": {
    "toc-hr-collapsed": true
   },
   "source": [
    "## Regular sequences\n",
    "\n",
    "Create regular date sequences:\n",
    "\n",
    "- `pd.date_range()` for timestamps, \n",
    "- `pd.period_range()` for periods, and \n",
    "- `pd.timedelta_range()` for time deltas.\n",
    "\n",
    "Just like Pyhon's `range()` and Numpy's `np.arange()`, methods above accept a start date, an end date, and an optional frequency code to create a regular sequence of dates.\n",
    "\n",
    "Specifying `start`, `end`, and `periods` will generate a range of evenly spaced dates from `start` to `end` inclusively, with `periods` number of elements in the resulting `DatetimeIndex`"
   ]
  },
  {
   "cell_type": "markdown",
   "metadata": {},
   "source": [
    "### `date_range()`"
   ]
  },
  {
   "cell_type": "code",
   "execution_count": 37,
   "metadata": {},
   "outputs": [
    {
     "data": {
      "text/plain": [
       "DatetimeIndex(['2020-04-19', '2020-04-20', '2020-04-21', '2020-04-22',\n",
       "               '2020-04-23', '2020-04-24', '2020-04-25', '2020-04-26'],\n",
       "              dtype='datetime64[ns]', freq='D')"
      ]
     },
     "execution_count": 37,
     "metadata": {},
     "output_type": "execute_result"
    }
   ],
   "source": [
    "pd.date_range('2020-4-19', '2020-4-26')"
   ]
  },
  {
   "cell_type": "code",
   "execution_count": 54,
   "metadata": {},
   "outputs": [
    {
     "data": {
      "text/plain": [
       "DatetimeIndex(['2020-04-19', '2020-04-20', '2020-04-21', '2020-04-22',\n",
       "               '2020-04-23', '2020-04-24', '2020-04-25', '2020-04-26',\n",
       "               '2020-04-27', '2020-04-28', '2020-04-29', '2020-04-30'],\n",
       "              dtype='datetime64[ns]', freq=None)"
      ]
     },
     "execution_count": 54,
     "metadata": {},
     "output_type": "execute_result"
    }
   ],
   "source": [
    "pd.date_range('2020-04-19', '2020-04-30', periods=12)"
   ]
  },
  {
   "cell_type": "code",
   "execution_count": 57,
   "metadata": {},
   "outputs": [
    {
     "data": {
      "text/plain": [
       "DatetimeIndex(['2020-04-19 00:00:00', '2020-04-19 01:00:00',\n",
       "               '2020-04-19 02:00:00', '2020-04-19 03:00:00',\n",
       "               '2020-04-19 04:00:00', '2020-04-19 05:00:00',\n",
       "               '2020-04-19 06:00:00', '2020-04-19 07:00:00',\n",
       "               '2020-04-19 08:00:00', '2020-04-19 09:00:00',\n",
       "               '2020-04-19 10:00:00', '2020-04-19 11:00:00',\n",
       "               '2020-04-19 12:00:00', '2020-04-19 13:00:00',\n",
       "               '2020-04-19 14:00:00', '2020-04-19 15:00:00',\n",
       "               '2020-04-19 16:00:00', '2020-04-19 17:00:00',\n",
       "               '2020-04-19 18:00:00', '2020-04-19 19:00:00',\n",
       "               '2020-04-19 20:00:00', '2020-04-19 21:00:00',\n",
       "               '2020-04-19 22:00:00', '2020-04-19 23:00:00',\n",
       "               '2020-04-20 00:00:00'],\n",
       "              dtype='datetime64[ns]', freq='H')"
      ]
     },
     "execution_count": 57,
     "metadata": {},
     "output_type": "execute_result"
    }
   ],
   "source": [
    "pd.date_range('2020-04-19', '2020-04-20', freq='H')"
   ]
  },
  {
   "cell_type": "markdown",
   "metadata": {},
   "source": [
    "### `period_range()`"
   ]
  },
  {
   "cell_type": "code",
   "execution_count": 39,
   "metadata": {},
   "outputs": [
    {
     "data": {
      "text/plain": [
       "PeriodIndex(['2020-01', '2020-02', '2020-03', '2020-04', '2020-05', '2020-06',\n",
       "             '2020-07', '2020-08'],\n",
       "            dtype='period[M]', freq='M')"
      ]
     },
     "execution_count": 39,
     "metadata": {},
     "output_type": "execute_result"
    }
   ],
   "source": [
    "pd.period_range('2020-01', periods=8, freq='M')"
   ]
  },
  {
   "cell_type": "markdown",
   "metadata": {},
   "source": [
    "### `timedelta_range()`"
   ]
  },
  {
   "cell_type": "code",
   "execution_count": 61,
   "metadata": {},
   "outputs": [
    {
     "data": {
      "text/plain": [
       "TimedeltaIndex(['0 days 00:00:00', '0 days 01:00:00', '0 days 02:00:00',\n",
       "                '0 days 03:00:00', '0 days 04:00:00', '0 days 05:00:00',\n",
       "                '0 days 06:00:00', '0 days 07:00:00', '0 days 08:00:00',\n",
       "                '0 days 09:00:00', '0 days 10:00:00', '0 days 11:00:00',\n",
       "                '0 days 12:00:00', '0 days 13:00:00', '0 days 14:00:00',\n",
       "                '0 days 15:00:00', '0 days 16:00:00', '0 days 17:00:00',\n",
       "                '0 days 18:00:00', '0 days 19:00:00', '0 days 20:00:00',\n",
       "                '0 days 21:00:00', '0 days 22:00:00', '0 days 23:00:00',\n",
       "                '1 days 00:00:00', '1 days 01:00:00', '1 days 02:00:00',\n",
       "                '1 days 03:00:00', '1 days 04:00:00', '1 days 05:00:00'],\n",
       "               dtype='timedelta64[ns]', freq='H')"
      ]
     },
     "execution_count": 61,
     "metadata": {},
     "output_type": "execute_result"
    }
   ],
   "source": [
    "pd.timedelta_range(0, periods=30, freq='H')"
   ]
  },
  {
   "cell_type": "code",
   "execution_count": 42,
   "metadata": {},
   "outputs": [
    {
     "data": {
      "text/plain": [
       "TimedeltaIndex(['0 days', '1 days', '2 days', '3 days', '4 days', '5 days',\n",
       "                '6 days', '7 days', '8 days', '9 days'],\n",
       "               dtype='timedelta64[ns]', freq='D')"
      ]
     },
     "execution_count": 42,
     "metadata": {},
     "output_type": "execute_result"
    }
   ],
   "source": [
    "pd.timedelta_range(0, periods=10, freq='D')"
   ]
  },
  {
   "cell_type": "code",
   "execution_count": 43,
   "metadata": {},
   "outputs": [
    {
     "data": {
      "text/plain": [
       "TimedeltaIndex(['00:00:00', '00:01:00', '00:02:00', '00:03:00', '00:04:00',\n",
       "                '00:05:00', '00:06:00', '00:07:00', '00:08:00', '00:09:00'],\n",
       "               dtype='timedelta64[ns]', freq='T')"
      ]
     },
     "execution_count": 43,
     "metadata": {},
     "output_type": "execute_result"
    }
   ],
   "source": [
    "pd.timedelta_range(0, periods=10, freq='T')"
   ]
  },
  {
   "cell_type": "markdown",
   "metadata": {},
   "source": [
    "### Frequencies and Offsets\n",
    "\n",
    "Main codes of frequency or date offset:\n",
    "\n",
    "| Code | Description  | Code | Description          |\n",
    "| :--- | :----------- | :--- | :------------------- |\n",
    "| `D`  | Calendar day | `B`  | Business day         |\n",
    "| `W`  | Weekly       |      |                      |\n",
    "| `M`  | Month end    | `BM` | Business month end   |\n",
    "| `Q`  | Quarter end  | `BQ` | Business quarter end |\n",
    "| `A`  | Year end     | `BA` | Business year end    |\n",
    "| `H`  | Hours        | `BH` | Business hours       |\n",
    "| `T`  | Minutes      |      |                      |\n",
    "| `S`  | Seconds      |      |                      |\n",
    "| `L`  | Milliseonds  |      |                      |\n",
    "| `U`  | Microseconds |      |                      |\n",
    "| `N`  | nanoseconds  |      |                      \n",
    "\n",
    "The monthly, quarterly, and annual frequencies are all marked at the end of the specified period. By adding an S suffix to any of these, they instead will be marked at the beginning:\n",
    "\n",
    "| Code | Description   |      | Code  | Description            |\n",
    "| :--- | :------------ | :--- | :---- | :--------------------- |\n",
    "| `MS` | Month start   |      | `BMS` | Business month start   |\n",
    "| `QS` | Quarter start |      | `BQS` | Business quarter start |\n",
    "| `AS` | Year start    |      | `BAS` | Business year start    |\n",
    "\n",
    "Additionally, you can change the month used to mark any quarterly or annual code by adding a three-letter month code as a suffix:\n",
    "\n",
    "- `Q-JAN`, `BQ-FEB`, `QS-MAR`, `BQS-APR`, etc.\n",
    "- `A-JAN`, `BA-FEB`, `AS-MAR`, `BAS-APR`, etc.\n",
    "\n",
    "In the same way, the split-point of the weekly frequency can be modified by adding a three-letter weekday code:\n",
    "\n",
    "- `W-SUN`, `W-MON`, `W-TUE`, `W-WED`, etc.\n",
    "\n",
    "On top of this, codes can be combined with numbers to specify other frequencies."
   ]
  },
  {
   "cell_type": "markdown",
   "metadata": {},
   "source": [
    "For example, for a frequency of 2 hours 30 minutes, we can combine the hour (`H`) and minute (`T`) codes as follows:"
   ]
  },
  {
   "cell_type": "code",
   "execution_count": 63,
   "metadata": {},
   "outputs": [
    {
     "data": {
      "text/plain": [
       "TimedeltaIndex(['00:00:00', '02:30:00', '05:00:00', '07:30:00'], dtype='timedelta64[ns]', freq='150T')"
      ]
     },
     "execution_count": 63,
     "metadata": {},
     "output_type": "execute_result"
    }
   ],
   "source": [
    "pd.timedelta_range(0, periods=4, freq='2H30T')"
   ]
  },
  {
   "cell_type": "code",
   "execution_count": 64,
   "metadata": {},
   "outputs": [
    {
     "data": {
      "text/plain": [
       "DatetimeIndex(['2020-04-20', '2020-04-21', '2020-04-22', '2020-04-23',\n",
       "               '2020-04-24', '2020-04-27', '2020-04-28', '2020-04-29',\n",
       "               '2020-04-30', '2020-05-01', '2020-05-04', '2020-05-05',\n",
       "               '2020-05-06', '2020-05-07'],\n",
       "              dtype='datetime64[ns]', freq='B')"
      ]
     },
     "execution_count": 64,
     "metadata": {},
     "output_type": "execute_result"
    }
   ],
   "source": [
    "# Business day\n",
    "pd.date_range('2020-04-20', periods=14, freq='B')"
   ]
  },
  {
   "cell_type": "code",
   "execution_count": 68,
   "metadata": {},
   "outputs": [
    {
     "data": {
      "text/plain": [
       "DatetimeIndex(['2020-04-21', '2020-04-28', '2020-05-05'], dtype='datetime64[ns]', freq='W-TUE')"
      ]
     },
     "execution_count": 68,
     "metadata": {},
     "output_type": "execute_result"
    }
   ],
   "source": [
    "# Weekday, i.e., Tuesday\n",
    "pd.date_range('2020-04-20', periods=3, freq='W-TUE')"
   ]
  },
  {
   "cell_type": "code",
   "execution_count": 73,
   "metadata": {},
   "outputs": [
    {
     "data": {
      "text/plain": [
       "DatetimeIndex(['2020-04-01', '2020-05-01', '2020-06-01'], dtype='datetime64[ns]', freq='MS')"
      ]
     },
     "execution_count": 73,
     "metadata": {},
     "output_type": "execute_result"
    }
   ],
   "source": [
    "# Month start\n",
    "pd.date_range('2020-04', periods=3, freq='MS')"
   ]
  },
  {
   "cell_type": "markdown",
   "metadata": {},
   "source": [
    "Note: All of these short codes refer to specific instances of Pandas time series offsets, which can be found in the `pd.tseries.offsets` module."
   ]
  },
  {
   "cell_type": "code",
   "execution_count": 67,
   "metadata": {},
   "outputs": [
    {
     "data": {
      "text/plain": [
       "DatetimeIndex(['2020-04-20', '2020-04-21', '2020-04-22', '2020-04-23',\n",
       "               '2020-04-24', '2020-04-27', '2020-04-28', '2020-04-29',\n",
       "               '2020-04-30', '2020-05-01', '2020-05-04', '2020-05-05',\n",
       "               '2020-05-06', '2020-05-07'],\n",
       "              dtype='datetime64[ns]', freq='B')"
      ]
     },
     "execution_count": 67,
     "metadata": {},
     "output_type": "execute_result"
    }
   ],
   "source": [
    "from pandas.tseries.offsets import BDay\n",
    "\n",
    "pd.date_range('2020-04-20', periods=14, freq=BDay())"
   ]
  },
  {
   "cell_type": "markdown",
   "metadata": {},
   "source": [
    "## Indexing\n",
    "\n",
    "`DatetimeIndex` objects have all the basic functionality of regular `Index` objects, and a smorgasbord of advanced time series specific methods for easy frequency processing."
   ]
  },
  {
   "cell_type": "markdown",
   "metadata": {},
   "source": [
    "### As regular index"
   ]
  },
  {
   "cell_type": "code",
   "execution_count": 75,
   "metadata": {},
   "outputs": [
    {
     "data": {
      "text/plain": [
       "DatetimeIndex(['2020-04-20', '2020-04-21', '2020-04-22', '2020-04-23',\n",
       "               '2020-04-24'],\n",
       "              dtype='datetime64[ns]', freq='D')"
      ]
     },
     "execution_count": 75,
     "metadata": {},
     "output_type": "execute_result"
    }
   ],
   "source": [
    "rng = pd.date_range('2020-04-20', periods=5, freq='D')\n",
    "rng"
   ]
  },
  {
   "cell_type": "code",
   "execution_count": 79,
   "metadata": {},
   "outputs": [
    {
     "data": {
      "text/plain": [
       "2020-04-20    0\n",
       "2020-04-21    1\n",
       "2020-04-22    2\n",
       "2020-04-23    3\n",
       "2020-04-24    4\n",
       "Freq: D, dtype: int64"
      ]
     },
     "execution_count": 79,
     "metadata": {},
     "output_type": "execute_result"
    }
   ],
   "source": [
    "import numpy as np\n",
    "\n",
    "ts = pd.Series(np.arange(5), index=rng)\n",
    "ts"
   ]
  },
  {
   "cell_type": "code",
   "execution_count": 80,
   "metadata": {},
   "outputs": [
    {
     "data": {
      "text/plain": [
       "DatetimeIndex(['2020-04-20', '2020-04-21', '2020-04-22', '2020-04-23',\n",
       "               '2020-04-24'],\n",
       "              dtype='datetime64[ns]', freq='D')"
      ]
     },
     "execution_count": 80,
     "metadata": {},
     "output_type": "execute_result"
    }
   ],
   "source": [
    "ts[:5].index"
   ]
  },
  {
   "cell_type": "code",
   "execution_count": 81,
   "metadata": {},
   "outputs": [
    {
     "data": {
      "text/plain": [
       "DatetimeIndex(['2020-04-21', '2020-04-22', '2020-04-23'], dtype='datetime64[ns]', freq='D')"
      ]
     },
     "execution_count": 81,
     "metadata": {},
     "output_type": "execute_result"
    }
   ],
   "source": [
    "ts.index[1:4]"
   ]
  },
  {
   "cell_type": "markdown",
   "metadata": {},
   "source": [
    "### Partial indexing\n",
    "\n",
    "To provide convenience for accessing longer time series, you can also pass in the year or year and month as strings.\n",
    "\n",
    "> Since the partial string selection is a form of label slicing, the endpoints will be *included*. "
   ]
  },
  {
   "cell_type": "code",
   "execution_count": 89,
   "metadata": {},
   "outputs": [
    {
     "data": {
      "text/plain": [
       "2020-01-31     0\n",
       "2020-02-29     1\n",
       "2020-03-31     2\n",
       "2020-04-30     3\n",
       "2020-05-31     4\n",
       "2020-06-30     5\n",
       "2020-07-31     6\n",
       "2020-08-31     7\n",
       "2020-09-30     8\n",
       "2020-10-31     9\n",
       "2020-11-30    10\n",
       "2020-12-31    11\n",
       "2021-01-31    12\n",
       "2021-02-28    13\n",
       "2021-03-31    14\n",
       "2021-04-30    15\n",
       "2021-05-31    16\n",
       "2021-06-30    17\n",
       "2021-07-31    18\n",
       "2021-08-31    19\n",
       "2021-09-30    20\n",
       "2021-10-31    21\n",
       "2021-11-30    22\n",
       "2021-12-31    23\n",
       "Freq: M, dtype: int64"
      ]
     },
     "execution_count": 89,
     "metadata": {},
     "output_type": "execute_result"
    }
   ],
   "source": [
    "# Example 1\n",
    "\n",
    "rng = pd.date_range('2020-01-01', periods=24, freq='M')\n",
    "ts = pd.Series(np.arange(24), index=rng)\n",
    "ts"
   ]
  },
  {
   "cell_type": "code",
   "execution_count": 87,
   "metadata": {},
   "outputs": [
    {
     "data": {
      "text/plain": [
       "2020-01-31     0\n",
       "2020-02-29     1\n",
       "2020-03-31     2\n",
       "2020-04-30     3\n",
       "2020-05-31     4\n",
       "2020-06-30     5\n",
       "2020-07-31     6\n",
       "2020-08-31     7\n",
       "2020-09-30     8\n",
       "2020-10-31     9\n",
       "2020-11-30    10\n",
       "2020-12-31    11\n",
       "Freq: M, dtype: int64"
      ]
     },
     "execution_count": 87,
     "metadata": {},
     "output_type": "execute_result"
    }
   ],
   "source": [
    "ts['2020']"
   ]
  },
  {
   "cell_type": "code",
   "execution_count": 96,
   "metadata": {},
   "outputs": [
    {
     "data": {
      "text/plain": [
       "2020-04-28     0\n",
       "2020-04-30     1\n",
       "2020-05-02     2\n",
       "2020-05-04     3\n",
       "2020-05-06     4\n",
       "2020-05-08     5\n",
       "2020-05-10     6\n",
       "2020-05-12     7\n",
       "2020-05-14     8\n",
       "2020-05-16     9\n",
       "2020-05-18    10\n",
       "2020-05-20    11\n",
       "2020-05-22    12\n",
       "2020-05-24    13\n",
       "2020-05-26    14\n",
       "2020-05-28    15\n",
       "2020-05-30    16\n",
       "2020-06-01    17\n",
       "2020-06-03    18\n",
       "2020-06-05    19\n",
       "Freq: 2D, dtype: int64"
      ]
     },
     "execution_count": 96,
     "metadata": {},
     "output_type": "execute_result"
    }
   ],
   "source": [
    "# Example 2\n",
    "\n",
    "rng = pd.date_range('2020-04-28', periods=20, freq='2D')\n",
    "ts = pd.Series(np.arange(20), index=rng)\n",
    "ts"
   ]
  },
  {
   "cell_type": "code",
   "execution_count": 100,
   "metadata": {},
   "outputs": [
    {
     "data": {
      "text/plain": [
       "2020-04-28    0\n",
       "2020-04-30    1\n",
       "Freq: 2D, dtype: int64"
      ]
     },
     "execution_count": 100,
     "metadata": {},
     "output_type": "execute_result"
    }
   ],
   "source": [
    "ts['2020-04'] # Get April"
   ]
  },
  {
   "cell_type": "code",
   "execution_count": 98,
   "metadata": {},
   "outputs": [
    {
     "data": {
      "text/plain": [
       "2020-04-28     0\n",
       "2020-04-30     1\n",
       "2020-05-02     2\n",
       "2020-05-04     3\n",
       "2020-05-06     4\n",
       "2020-05-08     5\n",
       "2020-05-10     6\n",
       "2020-05-12     7\n",
       "2020-05-14     8\n",
       "2020-05-16     9\n",
       "2020-05-18    10\n",
       "2020-05-20    11\n",
       "2020-05-22    12\n",
       "2020-05-24    13\n",
       "2020-05-26    14\n",
       "2020-05-28    15\n",
       "2020-05-30    16\n",
       "Freq: 2D, dtype: int64"
      ]
     },
     "execution_count": 98,
     "metadata": {},
     "output_type": "execute_result"
    }
   ],
   "source": [
    "ts['2020-04':'2020-05'] # Get April to May"
   ]
  },
  {
   "cell_type": "markdown",
   "metadata": {},
   "source": [
    "## Resampling\n",
    "\n",
    "`resample()` is a time-based groupby, followed by a reduction method on each of its groups.\n",
    "\n",
    "The `resample()` method can be used directly from `DataFrameGroupBy` objects.\n",
    "\n",
    "Alternatively, we can use the much simpler `asfreq()` method. The primary difference between the two is that `resample()` is fundamentally a *data aggregation*, while `asfreq()` is fundamentally a *data selection*."
   ]
  },
  {
   "cell_type": "markdown",
   "metadata": {},
   "source": [
    "### Basics"
   ]
  },
  {
   "cell_type": "code",
   "execution_count": 126,
   "metadata": {},
   "outputs": [
    {
     "data": {
      "text/plain": [
       "2012-01-01    230\n",
       "2012-01-02    417\n",
       "2012-01-03    259\n",
       "2012-01-04    291\n",
       "2012-01-05    223\n",
       "             ... \n",
       "2012-04-05    473\n",
       "2012-04-06     47\n",
       "2012-04-07    277\n",
       "2012-04-08    280\n",
       "2012-04-09    221\n",
       "Freq: D, Length: 100, dtype: int64"
      ]
     },
     "execution_count": 126,
     "metadata": {},
     "output_type": "execute_result"
    }
   ],
   "source": [
    "rng = pd.date_range('1/1/2012', periods=100, freq='D')\n",
    "ts = pd.Series(np.random.randint(0, 500, len(rng)), index=rng)\n",
    "ts"
   ]
  },
  {
   "cell_type": "code",
   "execution_count": 148,
   "metadata": {},
   "outputs": [
    {
     "data": {
      "text/plain": [
       "2012-01-01    2996\n",
       "2012-01-11    2964\n",
       "2012-01-21    2684\n",
       "2012-01-31    2716\n",
       "2012-02-10    2331\n",
       "2012-02-20    2238\n",
       "2012-03-01    2563\n",
       "2012-03-11    2537\n",
       "2012-03-21    2350\n",
       "2012-03-31    2388\n",
       "Freq: 10D, dtype: int64"
      ]
     },
     "execution_count": 148,
     "metadata": {},
     "output_type": "execute_result"
    }
   ],
   "source": [
    "# Sampling the sum of every 10 days\n",
    "ts.resample('10D').sum()"
   ]
  },
  {
   "cell_type": "code",
   "execution_count": 161,
   "metadata": {},
   "outputs": [
    {
     "data": {
      "text/plain": [
       "<matplotlib.legend.Legend at 0x1a356d09e8>"
      ]
     },
     "execution_count": 161,
     "metadata": {},
     "output_type": "execute_result"
    },
    {
     "data": {
      "image/png": "[encoded data removed]",
      "text/plain": [
       "<Figure size 432x288 with 1 Axes>"
      ]
     },
     "metadata": {},
     "output_type": "display_data"
    }
   ],
   "source": [
    "%matplotlib inline\n",
    "import matplotlib.pyplot as plt\n",
    "import seaborn; seaborn.set()\n",
    "\n",
    "# fig, ax = plt.subplots(2, sharex=True)\n",
    "\n",
    "ts.plot(style='-', label='Original')\n",
    "\n",
    "# REsampling with mean of every week (forward fill)\n",
    "ts.asfreq('W', method='ffill').plot(style='--', label='Every week')\n",
    "\n",
    "# REsampling with mean of every month (backward fill)\n",
    "ts.asfreq('M', method='bfill').plot(style='-o', label='Every month')\n",
    "\n",
    "plt.legend()"
   ]
  },
  {
   "cell_type": "markdown",
   "metadata": {},
   "source": [
    "The `resample` function is very flexible and allows you to specify many different parameters to control the frequency conversion and resampling operation.\n",
    "\n",
    "- Any function available via [dispatching](https://pandas.pydata.org/pandas-docs/stable/user_guide/groupby.html#groupby-dispatch) is available as a method of the returned object, including `sum`, `mean`, `std`, `sem`, `max`, `min`, `median`, `first`, `last`, `ohlc`:"
   ]
  },
  {
   "cell_type": "code",
   "execution_count": 130,
   "metadata": {},
   "outputs": [
    {
     "data": {
      "text/plain": [
       "2012-01-01    230.000000\n",
       "2012-01-08    322.142857\n",
       "2012-01-15    243.000000\n",
       "2012-01-22    316.000000\n",
       "2012-01-29    255.428571\n",
       "2012-02-05    361.285714\n",
       "2012-02-12    236.428571\n",
       "2012-02-19    188.714286\n",
       "2012-02-26    181.571429\n",
       "2012-03-04    316.714286\n",
       "2012-03-11    240.857143\n",
       "2012-03-18    247.285714\n",
       "2012-03-25    228.142857\n",
       "2012-04-01    239.142857\n",
       "2012-04-08    239.857143\n",
       "2012-04-15    221.000000\n",
       "Freq: W-SUN, dtype: float64"
      ]
     },
     "execution_count": 130,
     "metadata": {},
     "output_type": "execute_result"
    }
   ],
   "source": [
    "# Sampling the mean of every week\n",
    "ts.resample('W').mean()"
   ]
  },
  {
   "cell_type": "markdown",
   "metadata": {},
   "source": [
    "- For downsampling, `closed` can be set to ‘left’ or ‘right’ to specify which end of the interval is closed"
   ]
  },
  {
   "cell_type": "code",
   "execution_count": 135,
   "metadata": {},
   "outputs": [
    {
     "data": {
      "text/plain": [
       "2011-12-22    230.000000\n",
       "2012-01-01    308.900000\n",
       "2012-01-11    301.600000\n",
       "2012-01-21    277.900000\n",
       "2012-01-31    233.500000\n",
       "2012-02-10    228.000000\n",
       "2012-02-20    234.500000\n",
       "2012-03-01    279.100000\n",
       "2012-03-11    238.800000\n",
       "2012-03-21    216.900000\n",
       "2012-03-31    260.555556\n",
       "Freq: 10D, dtype: float64"
      ]
     },
     "execution_count": 135,
     "metadata": {},
     "output_type": "execute_result"
    }
   ],
   "source": [
    "ts.resample('10D', closed='right').mean()"
   ]
  },
  {
   "cell_type": "markdown",
   "metadata": {},
   "source": [
    "- Parameters like `label` and `loffset` are used to manipulate the resulting labels. `label` specifies whether the result is labeled with the beginning or the end of the interval. `loffset` performs a time adjustment on the output labels."
   ]
  },
  {
   "cell_type": "code",
   "execution_count": 136,
   "metadata": {},
   "outputs": [
    {
     "data": {
      "text/plain": [
       "2012-01-01    230.000000\n",
       "2012-01-08    322.142857\n",
       "2012-01-15    243.000000\n",
       "2012-01-22    316.000000\n",
       "2012-01-29    255.428571\n",
       "2012-02-05    361.285714\n",
       "2012-02-12    236.428571\n",
       "2012-02-19    188.714286\n",
       "2012-02-26    181.571429\n",
       "2012-03-04    316.714286\n",
       "2012-03-11    240.857143\n",
       "2012-03-18    247.285714\n",
       "2012-03-25    228.142857\n",
       "2012-04-01    239.142857\n",
       "2012-04-08    239.857143\n",
       "2012-04-15    221.000000\n",
       "Freq: W-SUN, dtype: float64"
      ]
     },
     "execution_count": 136,
     "metadata": {},
     "output_type": "execute_result"
    }
   ],
   "source": [
    "ts.resample('W').mean() # by default label='left'"
   ]
  },
  {
   "cell_type": "code",
   "execution_count": 143,
   "metadata": {},
   "outputs": [
    {
     "data": {
      "text/plain": [
       "2011-12-25 00:00:01    230.000000\n",
       "2012-01-01 00:00:01    322.142857\n",
       "2012-01-08 00:00:01    243.000000\n",
       "2012-01-15 00:00:01    316.000000\n",
       "2012-01-22 00:00:01    255.428571\n",
       "2012-01-29 00:00:01    361.285714\n",
       "2012-02-05 00:00:01    236.428571\n",
       "2012-02-12 00:00:01    188.714286\n",
       "2012-02-19 00:00:01    181.571429\n",
       "2012-02-26 00:00:01    316.714286\n",
       "2012-03-04 00:00:01    240.857143\n",
       "2012-03-11 00:00:01    247.285714\n",
       "2012-03-18 00:00:01    228.142857\n",
       "2012-03-25 00:00:01    239.142857\n",
       "2012-04-01 00:00:01    239.857143\n",
       "2012-04-08 00:00:01    221.000000\n",
       "Freq: W-SUN, dtype: float64"
      ]
     },
     "execution_count": 143,
     "metadata": {},
     "output_type": "execute_result"
    }
   ],
   "source": [
    "ts.resample('W', label='left', loffset='1s').mean()"
   ]
  },
  {
   "cell_type": "markdown",
   "metadata": {},
   "source": [
    "### Upsampling\n",
    "\n",
    "Upsampling means *sample more frequently*.\n",
    "\n",
    "For upsampling, you can specify a way to upsample and the `limit` parameter to interpolate over the gaps that are created:"
   ]
  },
  {
   "cell_type": "code",
   "execution_count": 176,
   "metadata": {},
   "outputs": [
    {
     "data": {
      "text/plain": [
       "<matplotlib.legend.Legend at 0x1a360e4c18>"
      ]
     },
     "execution_count": 176,
     "metadata": {},
     "output_type": "execute_result"
    },
    {
     "data": {
      "image/png": "[encoded data removed]",
      "text/plain": [
       "<Figure size 432x288 with 1 Axes>"
      ]
     },
     "metadata": {},
     "output_type": "display_data"
    }
   ],
   "source": [
    "data = ts.iloc[:20]\n",
    "\n",
    "data.plot(style='-', label='Day')\n",
    "\n",
    "# UPsampling every half day\n",
    "data.resample('12H').ffill(limit=2).plot(style='--', label='Half day')\n",
    "\n",
    "plt.legend()"
   ]
  },
  {
   "cell_type": "markdown",
   "metadata": {},
   "source": [
    "### Downsampling\n",
    "\n",
    "Downsampling means *sample less frequently*."
   ]
  },
  {
   "cell_type": "code",
   "execution_count": 178,
   "metadata": {},
   "outputs": [
    {
     "data": {
      "text/plain": [
       "<matplotlib.legend.Legend at 0x1a3654f588>"
      ]
     },
     "execution_count": 178,
     "metadata": {},
     "output_type": "execute_result"
    },
    {
     "data": {
      "image/png": "[encoded data removed]",
      "text/plain": [
       "<Figure size 432x288 with 1 Axes>"
      ]
     },
     "metadata": {},
     "output_type": "display_data"
    }
   ],
   "source": [
    "ts.iloc[:50].plot(style='-', label='Day')\n",
    "\n",
    "# DOWNsampling with mean of every week\n",
    "ts.iloc[:50].resample('W').mean().plot(style='--', label='Week')\n",
    "\n",
    "plt.legend()"
   ]
  },
  {
   "cell_type": "markdown",
   "metadata": {},
   "source": [
    "## Shifting data in time\n",
    "\n",
    "Pandas has two closely related methods for computing this: `shift()` and `tshift()` In short, the difference between them is that `shift()` *shifts the data*, while `tshift()` *shifts the index*. In both cases, the shift is specified in multiples of the frequency."
   ]
  },
  {
   "cell_type": "code",
   "execution_count": 203,
   "metadata": {},
   "outputs": [
    {
     "data": {
      "text/plain": [
       "2012-01-01     83\n",
       "2012-01-02     36\n",
       "2012-01-03    214\n",
       "2012-01-04    382\n",
       "2012-01-05    249\n",
       "             ... \n",
       "2012-04-05    489\n",
       "2012-04-06     15\n",
       "2012-04-07    358\n",
       "2012-04-08    406\n",
       "2012-04-09     72\n",
       "Freq: D, Length: 100, dtype: int64"
      ]
     },
     "execution_count": 203,
     "metadata": {},
     "output_type": "execute_result"
    }
   ],
   "source": [
    "ts = pd.Series(np.random.randint(0, 500, len(rng)), index=rng)\n",
    "ts"
   ]
  },
  {
   "cell_type": "code",
   "execution_count": 210,
   "metadata": {},
   "outputs": [
    {
     "data": {
      "text/plain": [
       "<matplotlib.legend.Legend at 0x1a3742e860>"
      ]
     },
     "execution_count": 210,
     "metadata": {},
     "output_type": "execute_result"
    },
    {
     "data": {
      "image/png": "[encoded data removed]",
      "text/plain": [
       "<Figure size 432x288 with 1 Axes>"
      ]
     },
     "metadata": {},
     "output_type": "display_data"
    }
   ],
   "source": [
    "data.plot(style='-', label='Original')\n",
    "\n",
    "# Shift data backward for 2 days\n",
    "data.shift(-2).plot(style='--', label='Shift 2 days backward')\n",
    "\n",
    "plt.legend()"
   ]
  },
  {
   "cell_type": "code",
   "execution_count": 213,
   "metadata": {},
   "outputs": [
    {
     "data": {
      "text/plain": [
       "<matplotlib.legend.Legend at 0x1a3690b7f0>"
      ]
     },
     "execution_count": 213,
     "metadata": {},
     "output_type": "execute_result"
    },
    {
     "data": {
      "image/png": "[encoded data removed]",
      "text/plain": [
       "<Figure size 432x288 with 1 Axes>"
      ]
     },
     "metadata": {},
     "output_type": "display_data"
    }
   ],
   "source": [
    "data = ts[:20]\n",
    "\n",
    "data.plot(style='-', label='Original')\n",
    "\n",
    "# Shift data forward for 2 days\n",
    "# I.e, the first 5 value will be 0\n",
    "data.shift(2).plot(style='--', label='Shift 2 days forward')\n",
    "\n",
    "plt.legend()"
   ]
  },
  {
   "cell_type": "markdown",
   "metadata": {},
   "source": [
    "Rather than changing the alignment of the data and the index, `DataFrame` and `Series` objects also have a [`tshift()`](https://pandas.pydata.org/pandas-docs/stable/reference/api/pandas.Series.tshift.html#pandas.Series.tshift) convenience method that changes all the dates in the index by a specified number of offsets:"
   ]
  },
  {
   "cell_type": "code",
   "execution_count": 212,
   "metadata": {},
   "outputs": [
    {
     "data": {
      "text/plain": [
       "<matplotlib.legend.Legend at 0x1a37642978>"
      ]
     },
     "execution_count": 212,
     "metadata": {},
     "output_type": "execute_result"
    },
    {
     "data": {
      "image/png": "[encoded data removed]",
      "text/plain": [
       "<Figure size 432x288 with 1 Axes>"
      ]
     },
     "metadata": {},
     "output_type": "display_data"
    }
   ],
   "source": [
    "data.plot(style='-', label='Original')\n",
    "\n",
    "# Shift index forward for 2 days\n",
    "data.tshift(2).plot(style='--', label='Shift index 2 days forward')\n",
    "\n",
    "plt.legend()"
   ]
  }
 ],
 "metadata": {
  "kernelspec": {
   "display_name": "Python 3",
   "language": "python",
   "name": "python3"
  },
  "language_info": {
   "codemirror_mode": {
    "name": "ipython",
    "version": 3
   },
   "file_extension": ".py",
   "mimetype": "text/x-python",
   "name": "python",
   "nbconvert_exporter": "python",
   "pygments_lexer": "ipython3",
   "version": "3.6.10"
  }
 },
 "nbformat": 4,
 "nbformat_minor": 4
}
